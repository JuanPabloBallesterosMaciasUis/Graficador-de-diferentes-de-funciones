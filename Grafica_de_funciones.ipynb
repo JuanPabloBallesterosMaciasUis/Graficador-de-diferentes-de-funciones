{
  "nbformat": 4,
  "nbformat_minor": 0,
  "metadata": {
    "colab": {
      "provenance": [],
      "authorship_tag": "ABX9TyOwVMfpDMuWSZw1ywMgux3E",
      "include_colab_link": true
    },
    "kernelspec": {
      "name": "python3",
      "display_name": "Python 3"
    },
    "language_info": {
      "name": "python"
    }
  },
  "cells": [
    {
      "cell_type": "markdown",
      "metadata": {
        "id": "view-in-github",
        "colab_type": "text"
      },
      "source": [
        "<a href=\"https://colab.research.google.com/github/JuanPabloBallesterosMaciasUis/Graficador-de-diferentes-de-funciones/blob/main/Grafica_de_funciones.ipynb\" target=\"_parent\"><img src=\"https://colab.research.google.com/assets/colab-badge.svg\" alt=\"Open In Colab\"/></a>"
      ]
    },
    {
      "cell_type": "markdown",
      "source": [
        "GRAFICADOR DE FUNCIONES"
      ],
      "metadata": {
        "id": "rUZbA5udMSQE"
      }
    },
    {
      "cell_type": "code",
      "execution_count": null,
      "metadata": {
        "id": "RhsW79tOJ3Ty"
      },
      "outputs": [],
      "source": [
        "# Programa para Graficar tipos de funciones\n",
        "* \n",
        "#numero de punto a graficar\n",
        "N = 100\n",
        "\n",
        "print(\"--------------------\")\n",
        "print(\"---Bienvenidos al graficador---\")\n",
        "print(\"---y = mx + b-------\")\n",
        "print(\"--------------------\")\n",
        "\n",
        "# Funcion para calcular los valores de y\n",
        "if opcion == 1:\n",
        "\n",
        "  def funcion_lineal(m,b,x):\n",
        "    return m*x + b\n",
        "  \n",
        "  #imput\n",
        "  print(\"--------------------\")\n",
        "  print(\"---Funcion lineal---\")\n",
        "  print(\"---y = mx + b-------\")\n",
        "  print(\"--------------------\")\n",
        "\n",
        "  m = int(input(\"Digite el valor de la pendiente: \"))\n",
        "  b = int(input(\"Digite el valor del punto de corte con el eje y: \"))\n",
        "\n",
        "  #Processing - graphication\n",
        "  x = np.linspace(-10,10, num= N)\n",
        "  y = funcion_lineal(m,b,x)\n",
        "\n",
        "  plt.plot(x,y, color = \"r\")\n",
        "  plt.xlabel(\"x\")\n",
        "  plt.ylabel(\"y\")\n",
        "  plt.title(\"Funcion lineal: y = mx + b\")\n",
        "  plt.grid()\n",
        "  plt.axhline(y=0, color = \"b\")\n",
        "  plt.axvline(x=0, color=\"b\")\n",
        "  plt.show()"
      ]
    }
  ]
}