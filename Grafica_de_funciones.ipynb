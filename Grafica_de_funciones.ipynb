{
  "nbformat": 4,
  "nbformat_minor": 0,
  "metadata": {
    "colab": {
      "provenance": [],
      "authorship_tag": "ABX9TyMaKeDMBXFKx+gWg1sBoA4S",
      "include_colab_link": true
    },
    "kernelspec": {
      "name": "python3",
      "display_name": "Python 3"
    },
    "language_info": {
      "name": "python"
    }
  },
  "cells": [
    {
      "cell_type": "markdown",
      "metadata": {
        "id": "view-in-github",
        "colab_type": "text"
      },
      "source": [
        "<a href=\"https://colab.research.google.com/github/JuanPabloBallesterosMaciasUis/Graficador-de-diferentes-de-funciones/blob/main/Grafica_de_funciones.ipynb\" target=\"_parent\"><img src=\"https://colab.research.google.com/assets/colab-badge.svg\" alt=\"Open In Colab\"/></a>"
      ]
    },
    {
      "cell_type": "markdown",
      "source": [
        "GRAFICADOR DE FUNCIONES"
      ],
      "metadata": {
        "id": "rUZbA5udMSQE"
      }
    },
    {
      "cell_type": "code",
      "execution_count": 12,
      "metadata": {
        "colab": {
          "base_uri": "https://localhost:8080/",
          "height": 660
        },
        "id": "RhsW79tOJ3Ty",
        "outputId": "97ac2ed1-76bc-4b15-9737-1825aa660819"
      },
      "outputs": [
        {
          "output_type": "stream",
          "name": "stdout",
          "text": [
            "--------------------------------------------\n",
            "---Bienvenidos al graficador de funciones---\n",
            "--------------------------------------------\n",
            "1.Funcion lineal\n",
            "2.Funcion cuadratica\n",
            "3.Funcion cubica\n",
            "4.Funcion exponencial\n",
            "5.Funcion logaritmica\n",
            "6.Funcion trigonometrica\n",
            "--------------------------------------------\n",
            "\n",
            "Digite el numero para la funcion: 2\n",
            "--------------------------\n",
            "---Funcion cuadratica-----\n",
            "---y = ax² + bx + c-------\n",
            "--------------------------\n",
            "\n",
            "Digite el valor para a: 1\n",
            "Digite el valor para b: 2\n",
            "Digite el valor para c: 3\n",
            "\n"
          ]
        },
        {
          "output_type": "display_data",
          "data": {
            "text/plain": [
              "<Figure size 432x288 with 1 Axes>"
            ],
            "image/png": "[encoded data removed]"
          },
          "metadata": {
            "needs_background": "light"
          }
        }
      ],
      "source": [
        "# Programa para Graficar tipos de funciones\n",
        "\n",
        "# importamos la libreria matplotlib y numpy y les asignamos un alias\n",
        "import numpy as np\n",
        "import matplotlib.pyplot as plt\n",
        "\n",
        "#numero de punto a graficar\n",
        "N = 100\n",
        "\n",
        "print(\"--------------------------------------------\")\n",
        "print(\"---Bienvenidos al graficador de funciones---\")\n",
        "print(\"--------------------------------------------\")\n",
        "print(\"1.Funcion lineal\")\n",
        "print(\"2.Funcion cuadratica\")\n",
        "print(\"3.Funcion cubica\")\n",
        "print(\"4.Funcion exponencial\")\n",
        "print(\"5.Funcion logaritmica\")\n",
        "print(\"6.Funcion trigonometrica\")\n",
        "print(\"--------------------------------------------\")\n",
        "print()\n",
        "\n",
        "opcion = int(input(\"Digite el numero para la funcion: \"))\n",
        "\n",
        "# Funcion para calcular los valores de y\n",
        "if opcion == 1:\n",
        "\n",
        "  def funcion_lineal(m,b,x):\n",
        "    return m*x + b\n",
        "  \n",
        "  #input\n",
        "  print(\"--------------------\")\n",
        "  print(\"---Funcion lineal---\")\n",
        "  print(\"---y = mx + b-------\")\n",
        "  print(\"--------------------\")\n",
        "  print()\n",
        "\n",
        "  m = int(input(\"Digite el valor de la pendiente: \"))\n",
        "  b = int(input(\"Digite el valor del punto de corte con el eje y: \"))\n",
        "  print()\n",
        "  #Processing - graphication\n",
        "  x = np.linspace(-10,10, num= N)\n",
        "  y = funcion_lineal(m,b,x)\n",
        "\n",
        "  plt.plot(x,y, color = \"r\")\n",
        "  plt.xlabel(\"x\")\n",
        "  plt.ylabel(\"y\")\n",
        "  plt.title(\"Funcion lineal: y = mx + b\")\n",
        "  plt.grid()\n",
        "  plt.axhline(y=0, color = \"b\")\n",
        "  plt.axvline(x=0, color=\"b\")\n",
        "  plt.show()\n",
        "\n",
        "if opcion == 2:\n",
        "  def funcion_lineal(a,b,c,x):\n",
        "    return a*x**2 + b*x + c\n",
        "\n",
        "  #input\n",
        "  print(\"--------------------------\")\n",
        "  print(\"---Funcion cuadratica-----\")\n",
        "  print(\"---y = ax² + bx + c-------\")\n",
        "  print(\"--------------------------\")\n",
        "  print()\n",
        "  a = int(input(\"Digite el valor para a: \"))\n",
        "  b = int(input(\"Digite el valor para b: \"))\n",
        "  c = int(input(\"Digite el valor para c: \"))\n",
        "  print()\n",
        "  #Processing - graphication\n",
        "  x = np.linspace(-10,10, num= N)\n",
        "  y = funcion_lineal(a,b,c,x)\n",
        "  plt.plot(x,y, color = \"r\")\n",
        "  plt.xlabel(\"x\")\n",
        "  plt.ylabel(\"y\")\n",
        "  plt.title(\"Funcion cuadratica: y = ax² + bx + c\")\n",
        "  plt.grid()\n",
        "  plt.axhline(y=0, color = \"b\")\n",
        "  plt.axvline(x=0, color=\"b\")\n",
        "  plt.show()"
      ]
    },
    {
      "cell_type": "code",
      "source": [],
      "metadata": {
        "id": "RXAXZoOhSrBv"
      },
      "execution_count": null,
      "outputs": []
    }
  ]
}